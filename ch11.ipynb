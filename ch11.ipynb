{
 "cells": [
  {
   "cell_type": "code",
   "execution_count": 1,
   "metadata": {},
   "outputs": [],
   "source": [
    "import firebase_admin\n",
    "from firebase_admin import credentials\n",
    "from firebase_admin import db\n",
    "import pandas as pd"
   ]
  },
  {
   "cell_type": "code",
   "execution_count": 2,
   "metadata": {},
   "outputs": [
    {
     "name": "stdout",
     "output_type": "stream",
     "text": [
      "✅ Firebase 연결 성공!\n"
     ]
    }
   ],
   "source": [
    "import firebase_admin\n",
    "from firebase_admin import credentials, db\n",
    "\n",
    "# Firebase가 이미 초기화되었는지 확인 후 실행\n",
    "if not firebase_admin._apps:\n",
    "    cred = credentials.Certificate(r\"C:\\Users\\302-15\\Desktop\\새 폴더 (2)\\myproject-a52d3-firebase-adminsdk-fbsvc-4c7091eb33.json\")  # JSON 파일 경로 확인\n",
    "    firebase_admin.initialize_app(cred, {\n",
    "        'databaseURL': 'https://myproject-a52d3-default-rtdb.asia-southeast1.firebasedatabase.app/'\n",
    "    })\n",
    "\n",
    "# Firestore 또는 Realtime Database 사용\n",
    "ref = db.reference('/')\n",
    "print(\"✅ Firebase 연결 성공!\")\n"
   ]
  },
  {
   "cell_type": "code",
   "execution_count": 3,
   "metadata": {},
   "outputs": [
    {
     "name": "stdout",
     "output_type": "stream",
     "text": [
      "✅ Firebase 데이터: {'users': {'user1': {'age': 25, 'name': '홍길동'}, 'user2': {'age': 30, 'name': '김철수'}}}\n"
     ]
    }
   ],
   "source": [
    "\n",
    "# 🔥 1. Firebase 서비스 계정 키 파일 경로 (올바르게 입력)\n",
    "cred = credentials.Certificate(r\"C:\\Users\\302-15\\Desktop\\새 폴더 (2)\\myproject-a52d3-firebase-adminsdk-fbsvc-4c7091eb33.json\")\n",
    "\n",
    "# 🔥 2. Firebase가 이미 초기화되었는지 확인 후 실행\n",
    "if not firebase_admin._apps:\n",
    "    firebase_admin.initialize_app(cred, {\n",
    "        'databaseURL': 'https://myproject-a52d3-default-rtdb.asia-southeast1.firebasedatabase.app/'\n",
    "    })\n",
    "\n",
    "# 🔥 3. 데이터베이스 참조\n",
    "dbRef = db.reference('/')  # 루트 경로\n",
    "\n",
    "ref.set({\n",
    "    'users': {\n",
    "        'user1': {\n",
    "            'name': '홍길동',\n",
    "            'age': 25\n",
    "        },\n",
    "        'user2': {\n",
    "            'name': '김철수',\n",
    "            'age': 30\n",
    "        }\n",
    "    }\n",
    "})\n",
    "\n",
    "# 🔥 4. 데이터 가져오기\n",
    "data = dbRef.get()\n",
    "print(\"✅ Firebase 데이터:\", data)\n"
   ]
  },
  {
   "cell_type": "code",
   "execution_count": 6,
   "metadata": {},
   "outputs": [
    {
     "name": "stdout",
     "output_type": "stream",
     "text": [
      "✅ 변환된 데이터 형식: [{'mean': 2.359774251549589, 'hm': '00:00'}, {'mean': 3.8049098618070056, 'hm': '00:10'}, {'mean': 1.2044129884418076, 'hm': '00:20'}, {'mean': 0.06560836089278393, 'hm': '00:30'}, {'mean': 0.0, 'hm': '00:40'}]\n",
      "✅ Firebase 데이터 업로드 완료!\n"
     ]
    }
   ],
   "source": [
    "import firebase_admin\n",
    "from firebase_admin import credentials, db\n",
    "import numpy as np\n",
    "import pandas as pd\n",
    "from datetime import datetime\n",
    "\n",
    "# 🔥 Firebase 서비스 계정 키 파일 경로 입력\n",
    "cred = credentials.Certificate(r\"C:\\Users\\302-15\\Desktop\\새 폴더 (2)\\myproject-a52d3-firebase-adminsdk-fbsvc-4c7091eb33.json\")\n",
    "\n",
    "# 🔥 Firebase 중복 초기화 방지\n",
    "if not firebase_admin._apps:\n",
    "    firebase_admin.initialize_app(cred, {\n",
    "        'databaseURL': 'https://myproject-a52d3-default-rtdb.asia-southeast1.firebasedatabase.app/'\n",
    "    })\n",
    "\n",
    "# 🔥 Firebase 데이터베이스 참조\n",
    "dbRef = db.reference()\n",
    "\n",
    "# 🔥 CSV 파일 로드\n",
    "csv_file_path = \"OTg6QzA_activities.csv\"\n",
    "act = pd.read_csv(csv_file_path)\n",
    "\n",
    "# 🔥 timestamp 컬럼 존재 여부 확인\n",
    "if 'timestamp' not in act.columns:\n",
    "    raise KeyError(\"🚨 'timestamp' 컬럼이 존재하지 않습니다. CSV 파일의 컬럼명을 확인하세요!\")\n",
    "\n",
    "# 2022년 1월 1일 데이터만 추출\n",
    "data220101 = act[(act['timestamp'] >= '2022-01-01 00:00:00.000') & \n",
    "                 (act['timestamp'] < '2022-01-02 00:00:00.000')].copy()\n",
    "\n",
    "data220101['p_timestamp'] = data220101.timestamp.shift(1)\n",
    "data220101['p_x'] = data220101['X'].shift(1)\n",
    "data220101['p_y'] = data220101['Y'].shift(1)\n",
    "data220101['p_z'] = data220101['Z'].shift(1)\n",
    "\n",
    "# NaN 값 제거\n",
    "tenmin = data220101.dropna().copy()\n",
    "\n",
    "# 거리 계산 함수\n",
    "def calc_dist(df):\n",
    "    x_d = df['X'] - df['p_x']\n",
    "    y_d = df['Y'] - df['p_y']\n",
    "    z_d = df['Z'] - df['p_z']\n",
    "    return np.sqrt(x_d**2 + y_d**2 + z_d**2)\n",
    "\n",
    "# 시간 차이 계산 함수\n",
    "def calc_timediff(df):\n",
    "    d1 = datetime.strptime(str(df['timestamp']), \"%Y-%m-%d %H:%M:%S.%f\")\n",
    "    d2 = datetime.strptime(str(df['p_timestamp']), \"%Y-%m-%d %H:%M:%S.%f\")\n",
    "    return (d1 - d2).total_seconds()\n",
    "\n",
    "# 속도 계산 함수\n",
    "def calc_act(df):\n",
    "    if df['d_time'] != 0:\n",
    "        return np.abs(df['dist'] / df['d_time'])\n",
    "    else:\n",
    "        return 0\n",
    "\n",
    "tenmin['dist'] = tenmin.apply(calc_dist, axis=1)\n",
    "tenmin['d_time'] = tenmin.apply(calc_timediff, axis=1)\n",
    "tenmin['calc_act'] = tenmin.apply(calc_act, axis=1)\n",
    "tenmin['timestamp'] = tenmin['timestamp'].astype('datetime64[ns]')\n",
    "\n",
    "cleaned = tenmin[['timestamp', 'calc_act']].set_index('timestamp')\n",
    "\n",
    "# 10분 단위 리샘플링\n",
    "result = cleaned.resample('10min').agg(['mean'])\n",
    "result.columns = ['mean']\n",
    "\n",
    "# 🔥 칼럼 이름 변경 및 시간 형식 변환\n",
    "result['hm'] = result.index.to_series().dt.strftime('%H:%M')\n",
    "\n",
    "# 🔥 NaN 값을 0으로 채우기\n",
    "result.fillna(0, inplace=True)\n",
    "\n",
    "# 🔥 Firebase에 업로드할 데이터 변환\n",
    "updates = result.to_dict(orient='records')\n",
    "print(\"✅ 변환된 데이터 형식:\", updates[:5])\n",
    "# 🔥 Firebase에 데이터 저장\n",
    "dbDevice = dbRef.child('OTg6QzA')\n",
    "dbDevice.child('2022-01-01').set(updates)\n",
    "\n",
    "print(\"✅ Firebase 데이터 업로드 완료!\")\n"
   ]
  },
  {
   "cell_type": "code",
   "execution_count": null,
   "metadata": {},
   "outputs": [],
   "source": []
  }
 ],
 "metadata": {
  "kernelspec": {
   "display_name": "base",
   "language": "python",
   "name": "python3"
  },
  "language_info": {
   "codemirror_mode": {
    "name": "ipython",
    "version": 3
   },
   "file_extension": ".py",
   "mimetype": "text/x-python",
   "name": "python",
   "nbconvert_exporter": "python",
   "pygments_lexer": "ipython3",
   "version": "3.12.7"
  }
 },
 "nbformat": 4,
 "nbformat_minor": 2
}
