{
 "cells": [
  {
   "cell_type": "code",
   "execution_count": 2,
   "metadata": {},
   "outputs": [
    {
     "data": {
      "text/html": [
       "<div>\n",
       "<style scoped>\n",
       "    .dataframe tbody tr th:only-of-type {\n",
       "        vertical-align: middle;\n",
       "    }\n",
       "\n",
       "    .dataframe tbody tr th {\n",
       "        vertical-align: top;\n",
       "    }\n",
       "\n",
       "    .dataframe thead th {\n",
       "        text-align: right;\n",
       "    }\n",
       "</style>\n",
       "<table border=\"1\" class=\"dataframe\">\n",
       "  <thead>\n",
       "    <tr style=\"text-align: right;\">\n",
       "      <th></th>\n",
       "      <th>유형</th>\n",
       "      <th>기본요금</th>\n",
       "      <th>거리운임</th>\n",
       "      <th>거리운임 적용 시점</th>\n",
       "      <th>시간운임</th>\n",
       "      <th>시간운임 적용 시점</th>\n",
       "      <th>심야할증</th>\n",
       "      <th>심야할증 적용시간</th>\n",
       "      <th>시계외 할증</th>\n",
       "      <th>시계외 할증 적용지점</th>\n",
       "      <th>관리기관명</th>\n",
       "      <th>관리기관 전화번호</th>\n",
       "      <th>데이터기준일자</th>\n",
       "    </tr>\n",
       "  </thead>\n",
       "  <tbody>\n",
       "    <tr>\n",
       "      <th>0</th>\n",
       "      <td>중형</td>\n",
       "      <td>4800</td>\n",
       "      <td>100</td>\n",
       "      <td>2km이후 83m당</td>\n",
       "      <td>100</td>\n",
       "      <td>시속 15km이하 운행시 20초마다 가산(기본요금과 병산)</td>\n",
       "      <td>30% 가산</td>\n",
       "      <td>23시~04시</td>\n",
       "      <td>20%</td>\n",
       "      <td>이천시 경계를 벗어나는 지점부터</td>\n",
       "      <td>경기도 이천시청 교통정책과</td>\n",
       "      <td>031-644-2384</td>\n",
       "      <td>2024-06-30</td>\n",
       "    </tr>\n",
       "    <tr>\n",
       "      <th>1</th>\n",
       "      <td>모범+대형승용</td>\n",
       "      <td>7000</td>\n",
       "      <td>200</td>\n",
       "      <td>3km이후 144m당</td>\n",
       "      <td>200</td>\n",
       "      <td>시속 15km이하 운행시 35초마다 가산(기본요금과 병산)</td>\n",
       "      <td>20% 가산</td>\n",
       "      <td>23시~04시</td>\n",
       "      <td>미적용</td>\n",
       "      <td>이천시 경계를 벗어나는 지점부터</td>\n",
       "      <td>경기도 이천시청 교통정책과</td>\n",
       "      <td>031-644-2384</td>\n",
       "      <td>2024-06-30</td>\n",
       "    </tr>\n",
       "  </tbody>\n",
       "</table>\n",
       "</div>"
      ],
      "text/plain": [
       "        유형  기본요금  거리운임   거리운임 적용 시점  시간운임                        시간운임 적용 시점  \\\n",
       "0       중형  4800   100   2km이후 83m당   100  시속 15km이하 운행시 20초마다 가산(기본요금과 병산)   \n",
       "1  모범+대형승용  7000   200  3km이후 144m당   200  시속 15km이하 운행시 35초마다 가산(기본요금과 병산)   \n",
       "\n",
       "     심야할증 심야할증 적용시간 시계외 할증        시계외 할증 적용지점           관리기관명     관리기관 전화번호  \\\n",
       "0  30% 가산   23시~04시    20%  이천시 경계를 벗어나는 지점부터  경기도 이천시청 교통정책과  031-644-2384   \n",
       "1  20% 가산   23시~04시    미적용  이천시 경계를 벗어나는 지점부터  경기도 이천시청 교통정책과  031-644-2384   \n",
       "\n",
       "      데이터기준일자  \n",
       "0  2024-06-30  \n",
       "1  2024-06-30  "
      ]
     },
     "execution_count": 2,
     "metadata": {},
     "output_type": "execute_result"
    }
   ],
   "source": [
    "import pandas as pd\n",
    "\n",
    "file_path = \"경기도 이천시_택시요금_20240630.csv\"\n",
    "df = pd.read_csv(file_path, encoding=\"cp949\")\n",
    "\n",
    "# 또는 EUC-KR 시도\n",
    "# df = pd.read_csv(file_path, encoding=\"euc-kr\")\n",
    "\n",
    "df.head()\n"
   ]
  }
 ],
 "metadata": {
  "kernelspec": {
   "display_name": "base",
   "language": "python",
   "name": "python3"
  },
  "language_info": {
   "codemirror_mode": {
    "name": "ipython",
    "version": 3
   },
   "file_extension": ".py",
   "mimetype": "text/x-python",
   "name": "python",
   "nbconvert_exporter": "python",
   "pygments_lexer": "ipython3",
   "version": "3.12.7"
  }
 },
 "nbformat": 4,
 "nbformat_minor": 2
}
