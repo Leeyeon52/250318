{
 "cells": [
  {
   "cell_type": "code",
   "execution_count": 1,
   "metadata": {},
   "outputs": [],
   "source": [
    "import pandas as pd"
   ]
  },
  {
   "cell_type": "code",
   "execution_count": 2,
   "metadata": {},
   "outputs": [],
   "source": [
    "file_path = '전북특별자치도 장수군_일반음식점 현황_20250317.csv'"
   ]
  },
  {
   "cell_type": "code",
   "execution_count": 6,
   "metadata": {},
   "outputs": [
    {
     "data": {
      "text/plain": [
       "<bound method DataFrame.all of        업종명          업소명                       소재지(도로명)         소재지전화\n",
       "0    일반음식점         금성식당        전북특별자치도 장수군 번암면 장수로 494  063-353-5638\n",
       "1    일반음식점         우성회관      전북특별자치도 장수군 계남면 한거2길 11-5  063-352-1083\n",
       "2    일반음식점         교촌식당       전북특별자치도 장수군 장수읍 교촌로 33-2  063-351-2330\n",
       "3    일반음식점          가야성        전북특별자치도 장수군 장수읍 장천로 187  063-352-7080\n",
       "4    일반음식점         오복식당         전북특별자치도 장수군 장수읍 시장통길 6  063-351-2205\n",
       "..     ...          ...                            ...           ...\n",
       "301  일반음식점          뚱자네  전북특별자치도 장수군 장수읍 장천로 220, 102호           NaN\n",
       "302  일반음식점         라화쿵부          전북특별자치도 장수군 장수읍 방촌길 3           NaN\n",
       "303  일반음식점        태산마라탕     전북특별자치도 장수군 장수읍 신천로 31, 2호  063-352-5657\n",
       "304  일반음식점  장수한우특별시 사업단          전북특별자치도 장수군 장수읍 중동길 7  063-351-8885\n",
       "305  일반음식점           어로         전북특별자치도 장수군 장계면 신동서로 3           NaN\n",
       "\n",
       "[306 rows x 4 columns]>"
      ]
     },
     "execution_count": 6,
     "metadata": {},
     "output_type": "execute_result"
    }
   ],
   "source": [
    "try:\n",
    "    df = pd.read_csv(file_path, encoding=\"utf-8\")\n",
    "except UnicodeDecodeError:\n",
    "    try:\n",
    "        df = pd.read_csv(file_path, encoding=\"cp949\")\n",
    "    except UnicodeDecodeError:\n",
    "        df = pd.read_csv(file_path, encoding=\"euc-kr\")\n",
    "\n",
    "df.head()\n",
    "df.all"
   ]
  },
  {
   "cell_type": "code",
   "execution_count": null,
   "metadata": {},
   "outputs": [],
   "source": []
  }
 ],
 "metadata": {
  "kernelspec": {
   "display_name": "base",
   "language": "python",
   "name": "python3"
  },
  "language_info": {
   "codemirror_mode": {
    "name": "ipython",
    "version": 3
   },
   "file_extension": ".py",
   "mimetype": "text/x-python",
   "name": "python",
   "nbconvert_exporter": "python",
   "pygments_lexer": "ipython3",
   "version": "3.12.7"
  }
 },
 "nbformat": 4,
 "nbformat_minor": 2
}
