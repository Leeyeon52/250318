{
 "cells": [
  {
   "cell_type": "code",
   "execution_count": 1,
   "metadata": {},
   "outputs": [],
   "source": [
    "file_path = \"전북특별자치도 정읍시_코로나 19 확진자 및 사망자현황_20230125.csv\""
   ]
  },
  {
   "cell_type": "code",
   "execution_count": 2,
   "metadata": {},
   "outputs": [],
   "source": [
    "encodings = ['utf-8','cp949','euc-kr','latin1']"
   ]
  },
  {
   "cell_type": "code",
   "execution_count": 4,
   "metadata": {},
   "outputs": [
    {
     "name": "stdout",
     "output_type": "stream",
     "text": [
      "❌ 인코딩 실패 (utf-8): name 'pd' is not defined\n",
      "❌ 인코딩 실패 (cp949): name 'pd' is not defined\n",
      "❌ 인코딩 실패 (euc-kr): name 'pd' is not defined\n",
      "❌ 인코딩 실패 (latin1): name 'pd' is not defined\n"
     ]
    }
   ],
   "source": [
    "for enc in encodings:\n",
    "    try:\n",
    "        df_fixed = pd.read_csv(file_path, encoding=enc)\n",
    "        print(f\"✅ 성공적으로 로드됨! 인코딩: {enc}\")\n",
    "        break  # 성공하면 루프 종료\n",
    "    except Exception as e:\n",
    "        print(f\"❌ 인코딩 실패 ({enc}): {e}\")"
   ]
  },
  {
   "cell_type": "code",
   "execution_count": 10,
   "metadata": {},
   "outputs": [
    {
     "name": "stdout",
     "output_type": "stream",
     "text": [
      "❌ 실패 (utf-8): 'utf-8' codec can't decode byte 0xb1 in position 0: invalid start byte\n",
      "✅ 성공! 인코딩: cp949\n"
     ]
    },
    {
     "data": {
      "text/plain": [
       "<bound method DataFrame.all of                구분     상위기관 시군구명  발생연도  발생월     확진자수  사망자수   관리부서     데이터기준일자\n",
       "0   코로나19발생 및 사망자  전북특별자치도  정읍시  2020    2      NaN   1.0  건강증진과  2023-01-25\n",
       "1   코로나19발생 및 사망자  전북특별자치도  정읍시  2020    3      NaN   NaN  건강증진과  2023-01-25\n",
       "2   코로나19발생 및 사망자  전북특별자치도  정읍시  2020    4      NaN   NaN  건강증진과  2023-01-25\n",
       "3   코로나19발생 및 사망자  전북특별자치도  정읍시  2020    5      NaN   NaN  건강증진과  2023-01-25\n",
       "4   코로나19발생 및 사망자  전북특별자치도  정읍시  2020    6      1.0   NaN  건강증진과  2023-01-25\n",
       "5   코로나19발생 및 사망자  전북특별자치도  정읍시  2020    7      NaN   NaN  건강증진과  2023-01-25\n",
       "6   코로나19발생 및 사망자  전북특별자치도  정읍시  2020    8      NaN   NaN  건강증진과  2023-01-25\n",
       "7   코로나19발생 및 사망자  전북특별자치도  정읍시  2020    9      3.0   NaN  건강증진과  2023-01-25\n",
       "8   코로나19발생 및 사망자  전북특별자치도  정읍시  2020   10     16.0   NaN  건강증진과  2023-01-25\n",
       "9   코로나19발생 및 사망자  전북특별자치도  정읍시  2020   11      NaN   NaN  건강증진과  2023-01-25\n",
       "10  코로나19발생 및 사망자  전북특별자치도  정읍시  2020   12     16.0   NaN  건강증진과  2023-01-25\n",
       "11  코로나19발생 및 사망자  전북특별자치도  정읍시  2021    1      5.0   NaN  건강증진과  2023-01-25\n",
       "12  코로나19발생 및 사망자  전북특별자치도  정읍시  2021    2      7.0   NaN  건강증진과  2023-01-25\n",
       "13  코로나19발생 및 사망자  전북특별자치도  정읍시  2021    3      2.0   NaN  건강증진과  2023-01-25\n",
       "14  코로나19발생 및 사망자  전북특별자치도  정읍시  2021    4     19.0   NaN  건강증진과  2023-01-25\n",
       "15  코로나19발생 및 사망자  전북특별자치도  정읍시  2021    5     25.0   NaN  건강증진과  2023-01-25\n",
       "16  코로나19발생 및 사망자  전북특별자치도  정읍시  2021    6      6.0   NaN  건강증진과  2023-01-25\n",
       "17  코로나19발생 및 사망자  전북특별자치도  정읍시  2021    7     14.0   NaN  건강증진과  2023-01-25\n",
       "18  코로나19발생 및 사망자  전북특별자치도  정읍시  2021    8     25.0   NaN  건강증진과  2023-01-25\n",
       "19  코로나19발생 및 사망자  전북특별자치도  정읍시  2021    9     22.0   NaN  건강증진과  2023-01-25\n",
       "20  코로나19발생 및 사망자  전북특별자치도  정읍시  2021   10     16.0   NaN  건강증진과  2023-01-25\n",
       "21  코로나19발생 및 사망자  전북특별자치도  정읍시  2021   11     53.0   1.0  건강증진과  2023-01-25\n",
       "22  코로나19발생 및 사망자  전북특별자치도  정읍시  2021   12    118.0   NaN  건강증진과  2023-01-25\n",
       "23  코로나19발생 및 사망자  전북특별자치도  정읍시  2022    1    154.0   NaN  건강증진과  2023-01-25\n",
       "24  코로나19발생 및 사망자  전북특별자치도  정읍시  2022    2   3254.0   1.0  건강증진과  2023-01-25\n",
       "25  코로나19발생 및 사망자  전북특별자치도  정읍시  2022    3  17844.0  24.0  건강증진과  2023-01-25\n",
       "26  코로나19발생 및 사망자  전북특별자치도  정읍시  2022    4   8552.0   4.0  건강증진과  2023-01-25\n",
       "27  코로나19발생 및 사망자  전북특별자치도  정읍시  2022    5   2264.0   2.0  건강증진과  2023-01-25\n",
       "28  코로나19발생 및 사망자  전북특별자치도  정읍시  2022    6    239.0   NaN  건강증진과  2023-01-25\n",
       "29  코로나19발생 및 사망자  전북특별자치도  정읍시  2022    7   1679.0   NaN  건강증진과  2023-01-25\n",
       "30  코로나19발생 및 사망자  전북특별자치도  정읍시  2022    8   6691.0   NaN  건강증진과  2023-01-25\n",
       "31  코로나19발생 및 사망자  전북특별자치도  정읍시  2022    9   2794.0   1.0  건강증진과  2023-01-25\n",
       "32  코로나19발생 및 사망자  전북특별자치도  정읍시  2022   10   1339.0   NaN  건강증진과  2023-01-25\n",
       "33  코로나19발생 및 사망자  전북특별자치도  정읍시  2022   11   1998.0   1.0  건강증진과  2023-01-25\n",
       "34  코로나19발생 및 사망자  전북특별자치도  정읍시  2022   12   3412.0   1.0  건강증진과  2023-01-25>"
      ]
     },
     "execution_count": 10,
     "metadata": {},
     "output_type": "execute_result"
    }
   ],
   "source": [
    "import pandas as pd\n",
    "\n",
    "file_path = \"전북특별자치도 정읍시_코로나 19 확진자 및 사망자현황_20230125.csv\"\n",
    "\n",
    "# 여러 인코딩 방식 시도\n",
    "encodings = [\"utf-8\", \"cp949\", \"euc-kr\", \"latin1\"]\n",
    "\n",
    "for enc in encodings:\n",
    "    try:\n",
    "        df = pd.read_csv(file_path, encoding=enc)\n",
    "        print(f\"✅ 성공! 인코딩: {enc}\")\n",
    "        break\n",
    "    except Exception as e:\n",
    "        print(f\"❌ 실패 ({enc}): {e}\")\n",
    "\n",
    "  # 데이터 확인\n",
    "df.all"
   ]
  },
  {
   "cell_type": "code",
   "execution_count": null,
   "metadata": {},
   "outputs": [],
   "source": []
  }
 ],
 "metadata": {
  "kernelspec": {
   "display_name": "base",
   "language": "python",
   "name": "python3"
  },
  "language_info": {
   "codemirror_mode": {
    "name": "ipython",
    "version": 3
   },
   "file_extension": ".py",
   "mimetype": "text/x-python",
   "name": "python",
   "nbconvert_exporter": "python",
   "pygments_lexer": "ipython3",
   "version": "3.12.7"
  }
 },
 "nbformat": 4,
 "nbformat_minor": 2
}
